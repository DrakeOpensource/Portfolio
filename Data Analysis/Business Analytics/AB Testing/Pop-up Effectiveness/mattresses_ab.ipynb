{
 "cells": [
  {
   "cell_type": "markdown",
   "metadata": {
    "collapsed": true,
    "pycharm": {
     "name": "#%% md\n"
    }
   },
   "source": [
    "# Matresses and More\n",
    "\n",
    "This is a demonstration of new website strategies with a hypothetical company called\n",
    "**Mattresses and More**.\n",
    "\n",
    "Their strategy is using\n",
    "modal pop-ups to show features of the site, such as:\n",
    "- Welcome to Mattresses and More!\n",
    "- Browse our bedding selection\n",
    "- Select items to add to your cart\n",
    "- View your cart by clicking on the icon\n",
    "- Press ‘Buy Now!’ when you’re ready to checkout"
   ]
  },
  {
   "cell_type": "markdown",
   "metadata": {
    "pycharm": {
     "name": "#%% md\n"
    }
   },
   "source": [
    "## Objective and Design\n",
    "\n",
    "Our product team wants to create a new design\n",
    "for the pop-ups that they believe will be more amicable\n",
    "to the user base.\n",
    "\n",
    "We've set up an A/B test where:\n",
    "- 50% of users view the original `control` version of the pop-ups\n",
    "- 50% of users view the new `variant` version of the pop-ups"
   ]
  },
  {
   "cell_type": "markdown",
   "metadata": {
    "pycharm": {
     "name": "#%% md\n"
    }
   },
   "source": [
    "We will be using a table called\n",
    "`onboarding_modals` with the following columns:\n",
    "- `user_id`: the user identifier\n",
    "- `modal_text`: the modal step\n",
    "- `user_action`: the user response (Close Modal or Continue)\n",
    "- `ab_group`: the version (control or variant)"
   ]
  },
  {
   "cell_type": "markdown",
   "metadata": {
    "pycharm": {
     "name": "#%% md\n"
    }
   },
   "source": [
    "## Imports\n",
    "\n",
    "We'll be using `sqlite3` for Python for our SQL handling in this format."
   ]
  },
  {
   "cell_type": "code",
   "execution_count": 1,
   "metadata": {
    "pycharm": {
     "name": "#%%\n"
    }
   },
   "outputs": [],
   "source": [
    "import sqlite3"
   ]
  },
  {
   "cell_type": "markdown",
   "metadata": {
    "pycharm": {
     "name": "#%% md\n"
    }
   },
   "source": [
    "## SQL\n",
    "\n",
    "Let's first connect to our database which we've already created in `make_db.py` from `onboarding_modals.txt`."
   ]
  },
  {
   "cell_type": "code",
   "execution_count": 2,
   "metadata": {
    "pycharm": {
     "name": "#%%\n"
    }
   },
   "outputs": [],
   "source": [
    "# creates the database or connects to it\n",
    "conn = sqlite3.connect('onboarding_modals.db')\n",
    "\n",
    "# creates a cursor for sql commands\n",
    "cur = conn.cursor()"
   ]
  },
  {
   "cell_type": "markdown",
   "metadata": {
    "pycharm": {
     "name": "#%% md\n"
    }
   },
   "source": [
    "### Exploration\n",
    "Now we can explore our database. Let's look at the first 10 entries."
   ]
  },
  {
   "cell_type": "code",
   "execution_count": 3,
   "metadata": {
    "pycharm": {
     "name": "#%%\n"
    }
   },
   "outputs": [
    {
     "name": "stdout",
     "output_type": "stream",
     "text": [
      "[('0015585f-51d0-4654-83fc-acce6544b0cf', '1 - Welcome to Mattresses and More!', 'Close Modal', 'control'), ('0028b8b4-abb3-4711-9ea2-0d1ecb975358', '1 - Welcome to Mattresses and More!', 'Close Modal', 'control'), ('0029802c-22a1-4d22-9a59-244341551ec9', '1 - Welcome to Mattresses and More!', 'Continue', 'variant'), ('0029802c-22a1-4d22-9a59-244341551ec9', '2 - Browse our bedding selection', 'Continue', 'variant'), ('0029802c-22a1-4d22-9a59-244341551ec9', '3 - Select items to add to your card', 'Continue', 'variant'), ('0029802c-22a1-4d22-9a59-244341551ec9', '4 - View your cart by clicking on the icon', 'Continue', 'variant'), ('0029802c-22a1-4d22-9a59-244341551ec9', \"5 - Press 'Buy Now!' when you're ready to checkout\", 'Continue', 'variant'), ('0042ec6f-e343-4486-a009-ecaea4ff31b2', '1 - Welcome to Mattresses and More!', 'Continue', 'variant'), ('0042ec6f-e343-4486-a009-ecaea4ff31b2', '2 - Browse our bedding selection', 'Close Modal', 'variant'), ('0121762e-7d4e-46b0-94d8-7bc56a5cb88b', '1 - Welcome to Mattresses and More!', 'Close Modal', 'control')]\n"
     ]
    }
   ],
   "source": [
    "cur.execute(\"\"\"\n",
    "SELECT *\n",
    "FROM onboarding_modals\n",
    "LIMIT 10;\n",
    "\"\"\")\n",
    "\n",
    "print(cur.fetchall())"
   ]
  },
  {
   "cell_type": "markdown",
   "metadata": {
    "pycharm": {
     "name": "#%% md\n"
    }
   },
   "source": [
    "### Funnel Completion\n",
    "\n",
    "In order to see how well our funnel performs, we can track the progress through the `modal_text` and group by how many unique `user_id` completed the funnel. We can also sort the output by question in the funnel to make it easier to see the progression. "
   ]
  },
  {
   "cell_type": "code",
   "execution_count": 4,
   "metadata": {},
   "outputs": [
    {
     "name": "stdout",
     "output_type": "stream",
     "text": [
      "[('1 - Welcome to Mattresses and More!', 1000), ('2 - Browse our bedding selection', 695), ('3 - Select items to add to your card', 575), ('4 - View your cart by clicking on the icon', 447), (\"5 - Press 'Buy Now!' when you're ready to checkout\", 379)]\n"
     ]
    }
   ],
   "source": [
    "cur.execute(\"\"\"\n",
    "SELECT modal_text, COUNT(DISTINCT user_id)\n",
    "FROM onboarding_modals\n",
    "GROUP by 1\n",
    "ORDER by 1;\n",
    "\"\"\")\n",
    "\n",
    "print(cur.fetchall())"
   ]
  },
  {
   "cell_type": "markdown",
   "metadata": {},
   "source": [
    "It's pretty clear that most people don't make it all the way through the funnel:\n",
    "- Modal 1: 1000\n",
    "- Modal 2: 695\n",
    "- Modal 3: 575\n",
    "- Modal 4: 447\n",
    "- Modal 5: 379"
   ]
  },
  {
   "cell_type": "markdown",
   "metadata": {},
   "source": [
    "## A/B Testing\n",
    "\n",
    "Since we have our groups marked as `control` and `variant`, we can compare how successful our individual groups were at making it through the funnel!"
   ]
  },
  {
   "cell_type": "code",
   "execution_count": 5,
   "metadata": {
    "pycharm": {
     "name": "#%%\n"
    }
   },
   "outputs": [
    {
     "name": "stdout",
     "output_type": "stream",
     "text": [
      "[('1 - Welcome to Mattresses and More!', 500, 500), ('2 - Browse our bedding selection', 301, 394), ('3 - Select items to add to your card', 239, 336), ('4 - View your cart by clicking on the icon', 183, 264), (\"5 - Press 'Buy Now!' when you're ready to checkout\", 152, 227)]\n"
     ]
    }
   ],
   "source": [
    "cur.execute(\"\"\"\n",
    "SELECT modal_text,\n",
    "    COUNT(DISTINCT CASE WHEN ab_group LIKE 'control%' THEN user_id\n",
    "    END) AS 'control_clicks',\n",
    "    COUNT(DISTINCT CASE WHEN ab_group LIKE 'variant%' THEN user_id\n",
    "    END) AS 'variant_clicks'\n",
    "FROM onboarding_modals\n",
    "GROUP BY 1\n",
    "ORDER BY 1;\n",
    "\"\"\")\n",
    "\n",
    "print(cur.fetchall())"
   ]
  },
  {
   "cell_type": "markdown",
   "metadata": {},
   "source": [
    "Since we have the data we need we can close the connection."
   ]
  },
  {
   "cell_type": "code",
   "execution_count": 6,
   "metadata": {
    "pycharm": {
     "name": "#%%\n"
    }
   },
   "outputs": [],
   "source": [
    "# close connection\n",
    "conn.close()"
   ]
  },
  {
   "cell_type": "markdown",
   "metadata": {},
   "source": [
    "## Results\n",
    "\n",
    "Great! It looks like the `variant` of our modal test was successful!\n",
    "\n",
    "In terms of user progression through the funnel:\n",
    "\n",
    "| Modal Funnel | Control | Variant |\n",
    "| :---  |    :----:   |     :---: |\n",
    "| 1 - Welcome to Mattresses and More! | 500 | 500 |\n",
    "| 2 - Browse our bedding selection | 301 | 394 |\n",
    "| 3 - Select items to add to your card | 239 | 336 |\n",
    "| 4 - View your cart by clicking on the icon | 183 | 264 |\n",
    "| 5 - Press 'Buy Now!' when you're ready to checkout | 152 | 227 |\n",
    "\n",
    "And broken down by percentages:\n",
    "\n",
    "| Modal | Control Percent | Variant Percent | Difference |\n",
    "| :---: |  :---: | :---:| :---: |\n",
    "| 1 | 100% | 100% | 0% |\n",
    "| 2 | 60.2% | 78.8% | 18% |\n",
    "| 3 | 47.8% | 67.2% | 19.4% |\n",
    "| 4 | 36.6% | 52.8% | 16.2% |\n",
    "| 5 | 30.4% | 45.4% | 15% |"
   ]
  },
  {
   "cell_type": "markdown",
   "metadata": {
    "pycharm": {
     "name": "#%% md\n"
    }
   },
   "source": [
    "## Conclusion\n",
    "\n",
    "In this project, we setup A/B Testing of a hypothetical mattress company's strategy to push users from site entry to checkout. After performing the test we found that our `variant` of the questions did indeed push more users into checkout.\n"
   ]
  }
 ],
 "metadata": {
  "kernelspec": {
   "display_name": "Python 3",
   "language": "python",
   "name": "python3"
  },
  "language_info": {
   "codemirror_mode": {
    "name": "ipython",
    "version": 3
   },
   "file_extension": ".py",
   "mimetype": "text/x-python",
   "name": "python",
   "nbconvert_exporter": "python",
   "pygments_lexer": "ipython3",
   "version": "3.7.6"
  }
 },
 "nbformat": 4,
 "nbformat_minor": 1
}