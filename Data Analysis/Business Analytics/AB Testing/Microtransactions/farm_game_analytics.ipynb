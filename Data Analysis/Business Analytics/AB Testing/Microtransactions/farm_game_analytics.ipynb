{
 "cells": [
  {
   "cell_type": "markdown",
   "metadata": {
    "collapsed": true,
    "pycharm": {
     "name": "#%% md\n"
    }
   },
   "source": [
    "# Farm Simulator\n",
    "\n",
    "There is a hypothetical farm simulator game that is played on a social media network.\n",
    "In the game you can grow, plant, and harvest different crops.\n",
    "\n",
    "While the game is free to play, users are able to make transactions in the game which assist them and their farm in different ways.\n",
    "The developers want to release a new upgrade package and are unsure of how much to charge.\n",
    "\n",
    "## What to Charge?\n",
    "In this project we will develop an A/B test that segments our users and figures out what the optimal price point is in order to generate the most revenue.\n",
    "\n",
    "We have 3 price points and groups:\n",
    "- $0.99 : A group\n",
    "- $1.99 : B group\n",
    "- $4.99 : C group"
   ]
  },
  {
   "cell_type": "markdown",
   "source": [
    "First we will import our database and create a dataframe from it. We could filter with SQL queries but this will make the demonstration simpler."
   ],
   "metadata": {
    "collapsed": false,
    "pycharm": {
     "name": "#%% md\n"
    }
   }
  },
  {
   "cell_type": "code",
   "execution_count": 1,
   "outputs": [
    {
     "name": "stdout",
     "output_type": "stream",
     "text": [
      "    user_id test_group is_purchase\n",
      "0  8e27bf9a          A          No\n",
      "1  eb89e6f0          A          No\n",
      "2  7119106a          A          No\n",
      "3  e53781ff          A          No\n",
      "4  02d48cf1          A         Yes\n"
     ]
    }
   ],
   "source": [
    "import sqlite3\n",
    "import pandas as pd\n",
    "# connects to db\n",
    "conn = sqlite3.connect('users.db')\n",
    "\n",
    "users = pd.read_sql_query(\"SELECT * FROM users\", conn)\n",
    "\n",
    "# previewing the table\n",
    "print(users.head())"
   ],
   "metadata": {
    "collapsed": false,
    "pycharm": {
     "name": "#%%\n"
    }
   }
  },
  {
   "cell_type": "markdown",
   "source": [
    "Next we can run a Chi-Square test to create a contingency table of the variables `test_group` and `is_purchase`."
   ],
   "metadata": {
    "collapsed": false
   }
  },
  {
   "cell_type": "code",
   "execution_count": 2,
   "outputs": [
    {
     "name": "stdout",
     "output_type": "stream",
     "text": [
      "is_purchase    No  Yes\n",
      "test_group            \n",
      "A            1350  316\n",
      "B            1483  183\n",
      "C            1583   83\n"
     ]
    }
   ],
   "source": [
    "cross_tab = pd.crosstab(users.test_group, users.is_purchase)\n",
    "# viewing the cross_tab\n",
    "print(cross_tab)"
   ],
   "metadata": {
    "collapsed": false,
    "pycharm": {
     "name": "#%%\n"
    }
   }
  },
  {
   "cell_type": "markdown",
   "source": [
    "So the most purchases were at the $0.99 price point, but is that significant? Let's compare them."
   ],
   "metadata": {
    "collapsed": false
   }
  },
  {
   "cell_type": "code",
   "execution_count": 3,
   "outputs": [
    {
     "name": "stdout",
     "output_type": "stream",
     "text": [
      "2.4126213546684264e-35\n"
     ]
    }
   ],
   "source": [
    "from scipy.stats import chi2_contingency\n",
    "\n",
    "# Calculate the p-value\n",
    "chi2, pval, dof, expected = chi2_contingency(cross_tab)\n",
    "\n",
    "# Print the p-value\n",
    "print(pval)"
   ],
   "metadata": {
    "collapsed": false,
    "pycharm": {
     "name": "#%%\n"
    }
   }
  },
  {
   "cell_type": "markdown",
   "source": [
    "Since the p-value is less than our threshold of 0.05, there is a difference between the groups."
   ],
   "metadata": {
    "collapsed": false
   }
  },
  {
   "cell_type": "markdown",
   "source": [
    "However, does that let us meet our goals?\n",
    "Let's say the company wants to generate a minimum of $1000 per week in order to justify the projects expense.\n",
    "\n",
    "In order to solve this, we need to calculate teh necessary purchase rate for each price point."
   ],
   "metadata": {
    "collapsed": false
   }
  },
  {
   "cell_type": "markdown",
   "source": [
    "Let's begin by calculating the number of visitors in a typical week - which is the timeframe the database was collected over."
   ],
   "metadata": {
    "collapsed": false
   }
  },
  {
   "cell_type": "code",
   "execution_count": 4,
   "outputs": [
    {
     "name": "stdout",
     "output_type": "stream",
     "text": [
      "4998\n"
     ]
    }
   ],
   "source": [
    "num_visits = len(users)\n",
    "print(num_visits)"
   ],
   "metadata": {
    "collapsed": false,
    "pycharm": {
     "name": "#%%\n"
    }
   }
  },
  {
   "cell_type": "markdown",
   "source": [
    "Now we can derive how many purchases we need at each price point to justify our new product."
   ],
   "metadata": {
    "collapsed": false
   }
  },
  {
   "cell_type": "code",
   "execution_count": 5,
   "outputs": [
    {
     "name": "stdout",
     "output_type": "stream",
     "text": [
      "Percent of sales needed at $0.99: 20.21\n",
      "Percent of sales needed at $1.99: 10.05\n",
      "Percent of sales needed at $4.99: 4.01\n"
     ]
    }
   ],
   "source": [
    "# The purchase rate at 0.99\n",
    "num_sales_needed_099 = 1000/0.99\n",
    "p_sales_needed_099 = num_sales_needed_099/num_visits\n",
    "\n",
    "print(f'Percent of sales needed at $0.99: {round(p_sales_needed_099,4)*100}')\n",
    "\n",
    "# The purchase rate needed at 1.99\n",
    "num_sales_needed_199 = 1000/1.99\n",
    "p_sales_needed_199 = num_sales_needed_199/num_visits\n",
    "print(f'Percent of sales needed at $1.99: {round(p_sales_needed_199,4)*100}')\n",
    "\n",
    "# The purchase rate needed at 4.99\n",
    "num_sales_needed_499 = 1000/4.99\n",
    "p_sales_needed_499 = num_sales_needed_499/num_visits\n",
    "print(f'Percent of sales needed at $4.99: {round(p_sales_needed_499,4)*100}')"
   ],
   "metadata": {
    "collapsed": false,
    "pycharm": {
     "name": "#%%\n"
    }
   }
  },
  {
   "cell_type": "markdown",
   "source": [
    "So we need a much higher percentage of sales at the lower price point than the higher one to reach our goals."
   ],
   "metadata": {
    "collapsed": false
   }
  },
  {
   "cell_type": "markdown",
   "source": [
    "## Binomial Testing\n",
    "\n",
    "Let's perform a binomial test to compare our sample with the hypothetical population.\n",
    "Since we now know what number we need to reach for each price point to be viable, we can compare our sample data with it."
   ],
   "metadata": {
    "collapsed": false
   }
  },
  {
   "cell_type": "markdown",
   "source": [
    "First we'll get the sample size and sales at each category."
   ],
   "metadata": {
    "collapsed": false,
    "pycharm": {
     "name": "#%% md\n"
    }
   }
  },
  {
   "cell_type": "code",
   "execution_count": 6,
   "outputs": [],
   "source": [
    "import numpy as np\n",
    "\n",
    "# Sample size and sales at 0.99\n",
    "samp_size_099 = np.sum(users.test_group == 'A')\n",
    "sales_099 = np.sum((users.test_group == 'A') & (users.is_purchase == 'Yes'))\n",
    "\n",
    "# Sample size and sales at 1.99\n",
    "samp_size_199 = np.sum(users.test_group == 'B')\n",
    "sales_199 = np.sum((users.test_group == 'B') & (users.is_purchase == 'Yes'))\n",
    "\n",
    "# Sample size and sales at 4.99\n",
    "samp_size_499 = np.sum(users.test_group == 'C')\n",
    "sales_499 = np.sum((users.test_group == 'C') & (users.is_purchase == 'Yes'))"
   ],
   "metadata": {
    "collapsed": false,
    "pycharm": {
     "name": "#%%\n"
    }
   }
  },
  {
   "cell_type": "markdown",
   "source": [
    "Then we'll perform our test. Our values will be:\n",
    "- `x`: The number of purchases in each group\n",
    "- `n`: The total number of visitors in the group\n",
    "- `p`: the target percent of purchase for the price point\n",
    "- `alternative`: The alternative hypothesis for our test, in this case if the observed purchase rate is significantly `greater` than than the purchase rate that results in meeting our minimum revenue target"
   ],
   "metadata": {
    "collapsed": false
   }
  },
  {
   "cell_type": "code",
   "execution_count": 7,
   "outputs": [
    {
     "name": "stdout",
     "output_type": "stream",
     "text": [
      "P-value for group A: 0.9028081076188554\n",
      "P-value for group B: 0.11184562623740614\n",
      "P-value for group C: 0.02794482665983064\n"
     ]
    }
   ],
   "source": [
    "from scipy.stats import binom_test\n",
    "\n",
    "# P-value for group A\n",
    "pvalueA = binom_test(sales_099, n=samp_size_099, p=p_sales_needed_099, alternative='greater')\n",
    "print(f'P-value for group A: {pvalueA}')\n",
    "\n",
    "# P-value for group B\n",
    "pvalueB = binom_test(sales_199, n=samp_size_199, p=p_sales_needed_199, alternative='greater')\n",
    "print(f'P-value for group B: {pvalueB}')\n",
    "\n",
    "# P-value for group C\n",
    "pvalueC = binom_test(sales_499, n=samp_size_499, p=p_sales_needed_499, alternative='greater')\n",
    "print(f'P-value for group C: {pvalueC}')\n"
   ],
   "metadata": {
    "collapsed": false,
    "pycharm": {
     "name": "#%%\n"
    }
   }
  },
  {
   "cell_type": "markdown",
   "source": [
    "## Conclusion\n",
    "\n",
    "The only p-value that rejected our null hypothesis was group C at a price point of $4.99.\n",
    "\n",
    "This is the price we should charge for our package because it lets us reach our minimum revenue per week target of $1000.\n"
   ],
   "metadata": {
    "collapsed": false,
    "pycharm": {
     "name": "#%% md\n"
    }
   }
  }
 ],
 "metadata": {
  "kernelspec": {
   "display_name": "Python 3",
   "language": "python",
   "name": "python3"
  },
  "language_info": {
   "codemirror_mode": {
    "name": "ipython",
    "version": 2
   },
   "file_extension": ".py",
   "mimetype": "text/x-python",
   "name": "python",
   "nbconvert_exporter": "python",
   "pygments_lexer": "ipython2",
   "version": "2.7.6"
  }
 },
 "nbformat": 4,
 "nbformat_minor": 0
}