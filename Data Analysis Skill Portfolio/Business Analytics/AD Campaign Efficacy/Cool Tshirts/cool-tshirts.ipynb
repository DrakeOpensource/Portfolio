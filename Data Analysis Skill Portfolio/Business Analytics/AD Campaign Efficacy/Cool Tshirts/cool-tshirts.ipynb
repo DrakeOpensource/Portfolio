{
 "cells": [
  {
   "cell_type": "markdown",
   "metadata": {
    "collapsed": true,
    "pycharm": {
     "name": "#%% md\n"
    }
   },
   "source": [
    "# Cool TShirts\n",
    "\n",
    "In this project we will be looking at how do visitors arrive at the website Cool TShirts (CTS) and what avenues we should focus on to increase traffic.\n",
    "\n",
    "## Database Schema\n",
    "\n",
    "The table `page_visits` in the database `cool-tshirts.db` has the following schema:\n",
    "\n",
    "|   Column    | Description |\n",
    "| :---: | :---: |\n",
    "| user_id     | A unique identifier for each visitor to a page       |\n",
    "| timestamp   | The time at which the visitor came to the page        |\n",
    "| page_name     | The title of the section of the page that was visited       |\n",
    "| timestamp   | The time at which the visitor came to the page        |\n",
    "| utm_source    | Identifies which site sent the traffic (i.e., google, newsletter, or facebook_ad)       |\n",
    "| utm_campaign   | Identifies the specific ad or email blast (i.e., june-21-newsletter or memorial-day-sale)    |"
   ]
  },
  {
   "cell_type": "markdown",
   "source": [
    "First lets set up our connection to the database."
   ],
   "metadata": {
    "collapsed": false
   }
  },
  {
   "cell_type": "code",
   "execution_count": 1,
   "outputs": [],
   "source": [
    "import sqlite3\n",
    "\n",
    "# connection to db\n",
    "con = sqlite3.connect('cool-tshirts.db')\n",
    "# cursor to perform commands\n",
    "cur = con.cursor()"
   ],
   "metadata": {
    "collapsed": false,
    "pycharm": {
     "name": "#%%\n"
    }
   }
  },
  {
   "cell_type": "markdown",
   "source": [
    "## Data Investigation\n",
    "\n",
    "How many campaigns and sources does CTS use, and what are the sources for each campaign?"
   ],
   "metadata": {
    "collapsed": false
   }
  },
  {
   "cell_type": "code",
   "execution_count": 2,
   "outputs": [
    {
     "name": "stdout",
     "output_type": "stream",
     "text": [
      "(8,)\n",
      "(6,)\n",
      "[('getting-to-know-cool-tshirts', 'nytimes'), ('weekly-newsletter', 'email'), ('ten-crazy-cool-tshirts-facts', 'buzzfeed'), ('retargetting-campaign', 'email'), ('retargetting-ad', 'facebook'), ('interview-with-cool-tshirts-founder', 'medium'), ('paid-search', 'google'), ('cool-tshirts-search', 'google')]\n"
     ]
    }
   ],
   "source": [
    "# number of campaigns\n",
    "cur.execute('SELECT COUNT(DISTINCT utm_campaign) AS num_campaigns FROM page_visits;')\n",
    "print(cur.fetchone())\n",
    "\n",
    "# number of campaigns\n",
    "cur.execute('SELECT COUNT(DISTINCT utm_source) AS num_sources FROM page_visits;')\n",
    "print(cur.fetchone())\n",
    "\n",
    "# number of campaigns\n",
    "cur.execute('SELECT DISTINCT utm_campaign, utm_source FROM page_visits;')\n",
    "print(cur.fetchall())"
   ],
   "metadata": {
    "collapsed": false,
    "pycharm": {
     "name": "#%%\n"
    }
   }
  },
  {
   "cell_type": "markdown",
   "source": [
    "8 different campaigns, 6 sources, and the relation is:\n",
    "\n",
    "| utm_campaign | utm_source |\n",
    "| :---: | :---: |\n",
    "|getting-to-know-cool-tshirts|\tnytimes|\n",
    "|weekly-newsletter|\temail|\n",
    "|ten-crazy-cool-tshirts-facts\t|buzzfeed|\n",
    "|retargetting-campaign\t|email|\n",
    "|retargetting-ad\t|facebook|\n",
    "|interview-with-cool-tshirts-founder|\tmedium|\n",
    "|paid-search\t|google|\n",
    "|cool-tshirts-search|\tgoogle|"
   ],
   "metadata": {
    "collapsed": false
   }
  },
  {
   "cell_type": "markdown",
   "source": [
    "## What is the user journey?\n",
    "\n",
    "\n",
    "### First Touches\n",
    "Let's start looking into the user journey by seeing how many first touches each campaign is responsible for.\n",
    "\n",
    "The query is a little complicated so the breakdown is:\n",
    "- `first_touch`: all first touches\n",
    "- `ft_attr`: the same set with sources and campaign columns added\n",
    "\n",
    "then the data is grouped by `utm_source` and `utm_campaign` and counted."
   ],
   "metadata": {
    "collapsed": false
   }
  },
  {
   "cell_type": "code",
   "execution_count": 3,
   "outputs": [
    {
     "name": "stdout",
     "output_type": "stream",
     "text": [
      "[('medium', 'interview-with-cool-tshirts-founder', 623), ('nytimes', 'getting-to-know-cool-tshirts', 615), ('buzzfeed', 'ten-crazy-cool-tshirts-facts', 577), ('google', 'cool-tshirts-search', 171)]\n"
     ]
    }
   ],
   "source": [
    "cur.execute('''\n",
    "WITH first_touch AS (\n",
    "    SELECT user_id,\n",
    "        MIN(timestamp) as first_touch_at\n",
    "    FROM page_visits\n",
    "    GROUP BY user_id),\n",
    "ft_attr AS (\n",
    "  SELECT ft.user_id,\n",
    "         ft.first_touch_at,\n",
    "         pv.utm_source,\n",
    "         pv.utm_campaign\n",
    "  FROM first_touch ft\n",
    "  JOIN page_visits pv\n",
    "    ON ft.user_id = pv.user_id\n",
    "    AND ft.first_touch_at = pv.timestamp\n",
    ")\n",
    "SELECT ft_attr.utm_source,\n",
    "       ft_attr.utm_campaign,\n",
    "       COUNT(*)\n",
    "FROM ft_attr\n",
    "GROUP BY 1, 2\n",
    "ORDER BY 3 DESC;\n",
    "''')\n",
    "print(cur.fetchall())"
   ],
   "metadata": {
    "collapsed": false,
    "pycharm": {
     "name": "#%%\n"
    }
   }
  },
  {
   "cell_type": "markdown",
   "source": [
    "\n",
    "| utm_source|\tutm_campaign|\tCOUNT(*)|\n",
    "|:---:|:---:|:---:|\n",
    "|medium\t|interview-with-cool-tshirts-founder|\t623|\n",
    "|nytimes|\tgetting-to-know-cool-tshirts|\t615|\n",
    "|buzzfeed\t|ten-crazy-cool-tshirts-facts\t|577|\n",
    "|google|\tcool-tshirts-search|\t171|"
   ],
   "metadata": {
    "collapsed": false
   }
  },
  {
   "cell_type": "markdown",
   "source": [
    "### Last Touches\n",
    "Now let's look at the last touches for each campaign and source.\n",
    "\n",
    "The query is a little complicated so the breakdown is:\n",
    "- `first_touch`: all first touches\n",
    "- `ft_attr`: the same set with sources and campaign columns added\n",
    "\n",
    "then the data is grouped by `utm_source` and `utm_campaign` and counted."
   ],
   "metadata": {
    "collapsed": false
   }
  },
  {
   "cell_type": "code",
   "execution_count": 4,
   "outputs": [
    {
     "name": "stdout",
     "output_type": "stream",
     "text": [
      "[('facebook', 'retargetting-ad', 452), ('email', 'weekly-newsletter', 451), ('email', 'retargetting-campaign', 248), ('nytimes', 'getting-to-know-cool-tshirts', 233), ('buzzfeed', 'ten-crazy-cool-tshirts-facts', 192), ('medium', 'interview-with-cool-tshirts-founder', 185), ('google', 'paid-search', 181), ('google', 'cool-tshirts-search', 62)]\n"
     ]
    }
   ],
   "source": [
    "cur.execute('''\n",
    "WITH last_touch AS (\n",
    "  SELECT user_id,\n",
    "         MAX(timestamp) as last_touch_at\n",
    "    FROM page_visits\n",
    "    GROUP BY user_id),\n",
    "lt_attr AS (\n",
    "  SELECT lt.user_id,\n",
    "         lt.last_touch_at,\n",
    "         pv.utm_source,\n",
    "         pv.utm_campaign,\n",
    "         pv.page_name\n",
    "  FROM last_touch lt\n",
    "  JOIN page_visits pv\n",
    "    ON lt.user_id = pv.user_id\n",
    "    AND lt.last_touch_at = pv.timestamp\n",
    ")\n",
    "SELECT lt_attr.utm_source,\n",
    "       lt_attr.utm_campaign,\n",
    "       COUNT(*)\n",
    "FROM lt_attr\n",
    "GROUP BY 1, 2\n",
    "ORDER BY 3 DESC;\n",
    "''')\n",
    "print(cur.fetchall())"
   ],
   "metadata": {
    "collapsed": false,
    "pycharm": {
     "name": "#%%\n"
    }
   }
  },
  {
   "cell_type": "markdown",
   "source": [
    "| utm_source|\tutm_campaign|\tCOUNT(*)|\n",
    "|:---:|:---:|:---:|\n",
    "|facebook\t|retargetting-ad\t|443|\n",
    "|email\t|weekly-newsletter|\t451|\n",
    "|email|\tretargetting-campaign|\t248\n",
    "|nytimes\t|getting-to-know-cool-tshirts|\t233|\n",
    "|buzzfeed|\tten-crazy-cool-tshirts-facts\t|192|\n",
    "|medium\t|interview-with-cool-tshirts-founder|\t185|\n",
    "|google|\tpaid-search\t|181|\n",
    "|google\t|cool-tshirts-search|\t62|"
   ],
   "metadata": {
    "collapsed": false
   }
  },
  {
   "cell_type": "markdown",
   "source": [
    "## How many visitors from each campaign make a purchase?\n",
    "\n",
    "We can see which campaign is responsible for each purchase at CTS by using last touch and the `4 - purchase` page."
   ],
   "metadata": {
    "collapsed": false,
    "pycharm": {
     "name": "#%% md\n"
    }
   }
  },
  {
   "cell_type": "code",
   "execution_count": 5,
   "outputs": [
    {
     "name": "stdout",
     "output_type": "stream",
     "text": [
      "[('facebook', 'retargetting-ad', 122), ('email', 'weekly-newsletter', 119), ('email', 'retargetting-campaign', 57), ('google', 'paid-search', 55), ('buzzfeed', 'ten-crazy-cool-tshirts-facts', 10), ('nytimes', 'getting-to-know-cool-tshirts', 10), ('medium', 'interview-with-cool-tshirts-founder', 8), ('google', 'cool-tshirts-search', 3)]\n"
     ]
    }
   ],
   "source": [
    "cur.execute('''\n",
    "WITH last_touch AS (\n",
    "  SELECT user_id,\n",
    "         MAX(timestamp) as last_touch_at\n",
    "    FROM page_visits\n",
    "    WHERE page_name = '4 - purchase'\n",
    "    GROUP BY user_id),\n",
    "lt_attr AS (\n",
    "  SELECT lt.user_id,\n",
    "         lt.last_touch_at,\n",
    "         pv.utm_source,\n",
    "         pv.utm_campaign,\n",
    "         pv.page_name\n",
    "  FROM last_touch lt\n",
    "  JOIN page_visits pv\n",
    "    ON lt.user_id = pv.user_id\n",
    "    AND lt.last_touch_at = pv.timestamp\n",
    ")\n",
    "SELECT lt_attr.utm_source,\n",
    "       lt_attr.utm_campaign,\n",
    "       COUNT(*)\n",
    "FROM lt_attr\n",
    "GROUP BY 1, 2\n",
    "ORDER BY 3 DESC;\n",
    "''')\n",
    "print(cur.fetchall())"
   ],
   "metadata": {
    "collapsed": false,
    "pycharm": {
     "name": "#%%\n"
    }
   }
  },
  {
   "cell_type": "markdown",
   "source": [
    "|utm_source\t|utm_campaign\t|COUNT(*)|\n",
    "|:---:|:---:|:---:|\n",
    "|email|\tweekly-newsletter|\t115|\n",
    "|facebook\t|retargetting-ad\t|113|\n",
    "|email|\tretargetting-campaign|\t54|\n",
    "|google|\tpaid-search\t|52|\n",
    "|buzzfeed\t|ten-crazy-cool-tshirts-facts\t|9|\n",
    "|nytimes|\tgetting-to-know-cool-tshirts|\t9|\n",
    "|medium\t|interview-with-cool-tshirts-founder|\t7|\n",
    "|google\t|cool-tshirts-search\t|2|"
   ],
   "metadata": {
    "collapsed": false
   }
  },
  {
   "cell_type": "markdown",
   "source": [
    "## Conclusion\n",
    "\n",
    "We can see that when it comes time to reinvest in advertising CTS should focus most on (in order of importance):\n",
    "- The weekly newletter\n",
    "- Facebook retargetting ads\n",
    "- The email retargetting campaign\n",
    "- Google search ads\n",
    "\n",
    "These avenues led to the most purchases from the site and were responsible for the vast majority of the revenue."
   ],
   "metadata": {
    "collapsed": false
   }
  }
 ],
 "metadata": {
  "kernelspec": {
   "display_name": "Python 3",
   "language": "python",
   "name": "python3"
  },
  "language_info": {
   "codemirror_mode": {
    "name": "ipython",
    "version": 2
   },
   "file_extension": ".py",
   "mimetype": "text/x-python",
   "name": "python",
   "nbconvert_exporter": "python",
   "pygments_lexer": "ipython2",
   "version": "2.7.6"
  }
 },
 "nbformat": 4,
 "nbformat_minor": 0
}