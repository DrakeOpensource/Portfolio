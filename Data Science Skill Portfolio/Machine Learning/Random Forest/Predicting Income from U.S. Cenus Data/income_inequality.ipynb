{
 "cells": [
  {
   "cell_type": "markdown",
   "metadata": {
    "pycharm": {
     "name": "#%% md\n"
    }
   },
   "source": [
    "# Predicting Income Inequality from U.S. Census Data\n",
    "\n",
    "In this project, we will be utilizing data from [UCI’s Machine Learning Repository](https://archive.ics.uci.edu/ml/datasets/census%20income)\n",
    "in order to predict income from U.S. census data.\n",
    "\n",
    "We'll be using a random forest to filter through the values derived from our trees, and obtain our optimal classifier."
   ]
  },
  {
   "cell_type": "markdown",
   "metadata": {
    "pycharm": {
     "name": "#%% md\n"
    }
   },
   "source": [
    "### Imports\n",
    "\n",
    "We're going to be using pandas and sklearn for this functionality."
   ]
  },
  {
   "cell_type": "code",
   "execution_count": 20,
   "metadata": {
    "collapsed": true,
    "pycharm": {
     "name": "#%%\n"
    }
   },
   "outputs": [],
   "source": [
    "def warn(*args, **kwargs):\n",
    "    pass\n",
    "import warnings\n",
    "warnings.warn = warn\n",
    "import pandas as pd\n",
    "from sklearn.model_selection import train_test_split\n",
    "from sklearn.ensemble import RandomForestClassifier\n",
    "import matplotlib.pyplot as plt\n",
    "%matplotlib inline"
   ]
  },
  {
   "cell_type": "markdown",
   "metadata": {
    "pycharm": {
     "name": "#%% md\n"
    }
   },
   "source": [
    "## Investigating The Data\n",
    "\n",
    "First we will read in the data and take a look at the initial values."
   ]
  },
  {
   "cell_type": "code",
   "execution_count": 21,
   "metadata": {
    "pycharm": {
     "name": "#%%\n"
    }
   },
   "outputs": [
    {
     "name": "stdout",
     "output_type": "stream",
     "text": [
      "First income data point:\n",
      "age                          39\n",
      "workclass             State-gov\n",
      "fnlwgt                    77516\n",
      "education             Bachelors\n",
      "education-num                13\n",
      "marital-status    Never-married\n",
      "occupation         Adm-clerical\n",
      "relationship      Not-in-family\n",
      "race                      White\n",
      "sex                        Male\n",
      "capital-gain               2174\n",
      "capital-loss                  0\n",
      "hours-per-week               40\n",
      "native-country    United-States\n",
      "income                    <=50K\n",
      "Name: 0, dtype: object\n"
     ]
    }
   ],
   "source": [
    "# reading in the income data to a df\n",
    "income_data = pd.read_csv('income.csv', delimiter = ', ', header=0)\n",
    "\n",
    "# printing the first\n",
    "print(f'First income data point:\\n{income_data.iloc[0]}')\n",
    "\n",
    "# grabbing only the 'income' column for assigning our labels\n",
    "labels = income_data[['income']]"
   ]
  },
  {
   "cell_type": "markdown",
   "metadata": {
    "pycharm": {
     "name": "#%% md\n"
    }
   },
   "source": [
    "### Data Cleaning\n",
    "\n",
    "In order for us to use our machine, we need to transform the data slightly. We'll be changing the `sex`, and `native-country`\n",
    "columns to binary values."
   ]
  },
  {
   "cell_type": "code",
   "execution_count": 22,
   "metadata": {
    "pycharm": {
     "name": "#%%\n"
    }
   },
   "outputs": [],
   "source": [
    "# changing the 'sex' and 'country' columns to be binary values for ML\n",
    "income_data['sex-int'] = income_data['sex'].apply(lambda x: 0 if x == 'Male' else 1)\n",
    "income_data['country-int'] = income_data['native-country'].apply(lambda x: 0 if x == 'United-States' else 1)\n",
    "\n",
    "# creating the 'data' section for our machine\n",
    "data = income_data[['age', 'capital-gain', 'capital-loss', 'hours-per-week', 'sex-int', 'country-int']]"
   ]
  },
  {
   "cell_type": "markdown",
   "metadata": {
    "pycharm": {
     "name": "#%% md\n"
    }
   },
   "source": [
    "## Building The Model\n",
    "\n",
    "Now we can split the data into training and testing sets, default split is 75% training and 25% testing.\n",
    "Then we can create our random forest and test it's performance on the set."
   ]
  },
  {
   "cell_type": "code",
   "execution_count": 23,
   "metadata": {
    "pycharm": {
     "name": "#%%\n"
    }
   },
   "outputs": [
    {
     "name": "stdout",
     "output_type": "stream",
     "text": [
      "0.8225033779633951\n"
     ]
    }
   ],
   "source": [
    "train_data, test_data, train_labels, test_labels = train_test_split(data, labels, random_state=1)\n",
    "\n",
    "# creating the random forest, default is 100 trees\n",
    "forest = RandomForestClassifier(random_state=1)\n",
    "forest.fit(train_data, train_labels)\n",
    "\n",
    "# printing the score of our forest\n",
    "print(forest.score(test_data, test_labels))"
   ]
  },
  {
   "cell_type": "markdown",
   "metadata": {
    "pycharm": {
     "name": "#%% md\n"
    }
   },
   "source": [
    "This score is pretty good, but let's see if we can't get a better one!"
   ]
  },
  {
   "cell_type": "markdown",
   "metadata": {},
   "source": [
    "## Improving The Model\n",
    "\n",
    "We change change the number of trees we name to determine the optimal number of\n",
    "trees."
   ]
  },
  {
   "cell_type": "code",
   "execution_count": 28,
   "metadata": {
    "pycharm": {
     "name": "#%%\n"
    }
   },
   "outputs": [],
   "source": [
    "# creating a dict for our forest scores\n",
    "forest_scores = {}\n",
    "for i in range(10, 100):\n",
    "    forest = RandomForestClassifier(random_state=1, n_estimators=i)\n",
    "    forest.fit(train_data, train_labels)\n",
    "    forest_scores[i] = forest.score(test_data, test_labels)"
   ]
  },
  {
   "cell_type": "code",
   "execution_count": 29,
   "metadata": {
    "pycharm": {
     "name": "#%%\n"
    }
   },
   "outputs": [
    {
     "data": {
      "image/png": "[encoded data removed]",
      "text/plain": [
       "<Figure size 432x288 with 1 Axes>"
      ]
     },
     "metadata": {
      "needs_background": "light"
     },
     "output_type": "display_data"
    },
    {
     "name": "stdout",
     "output_type": "stream",
     "text": [
      "The best score (0.8261884289399337) comes from a forest with 33 trees!\n"
     ]
    }
   ],
   "source": [
    "plt.plot(*zip(*forest_scores.items()))\n",
    "plt.xlabel('Trees')\n",
    "plt.ylabel('Validation Accuracy')\n",
    "plt.title('Income Inequality Forest Accuracy')\n",
    "plt.show()\n",
    "\n",
    "max_score = max(forest_scores.values())\n",
    "print(f'The best score ({max_score}) comes from a forest with {max(forest_scores, key=forest_scores.get)} trees!')"
   ]
  },
  {
   "cell_type": "markdown",
   "metadata": {
    "pycharm": {
     "name": "#%% md\n"
    }
   },
   "source": [
    "In conclusion, we can predict whether someone will make over $50k based solely off census data with an accuracy of 83%!"
   ]
  },
  {
   "cell_type": "markdown",
   "metadata": {
    "pycharm": {
     "name": "#%% md\n"
    }
   },
   "source": [
    "#### Data Sources\n",
    "Data is derived from the [UCI’s Machine Learning Repository](https://archive.ics.uci.edu/ml/datasets/census%20income)."
   ]
  }
 ],
 "metadata": {
  "kernelspec": {
   "display_name": "Python 3",
   "language": "python",
   "name": "python3"
  },
  "language_info": {
   "codemirror_mode": {
    "name": "ipython",
    "version": 3
   },
   "file_extension": ".py",
   "mimetype": "text/x-python",
   "name": "python",
   "nbconvert_exporter": "python",
   "pygments_lexer": "ipython3",
   "version": "3.7.6"
  }
 },
 "nbformat": 4,
 "nbformat_minor": 1
}
